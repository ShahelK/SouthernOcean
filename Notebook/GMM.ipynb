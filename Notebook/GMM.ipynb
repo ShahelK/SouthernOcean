{
 "cells": [
  {
   "cell_type": "code",
   "execution_count": null,
   "metadata": {
    "collapsed": true
   },
   "outputs": [],
   "source": [
    "# -*- coding: utf-8 -*-\n",
    "\"\"\"\n",
    "Created on Thu Aug 17 10:59:59 2018\n",
    "\n",
    "@author: shahelkhan\n",
    "\n",
    "GMM.py\n",
    "\n",
    "Purpose:\n",
    "    - Generate the GMM object in reduced space using X_train\n",
    "    - Retaing information on the classes in reduced and reconstructed space\n",
    "    - Assigned labels and posterior probabilities to the full training dataset X\n",
    "    \n",
    "\"\"\"\n",
    "import pickle\n",
    "from sklearn import mixture\n",
    "import numpy as np\n",
    "import time\n",
    "\n",
    "import Print\n",
    "\n",
    "start_time = time.clock()"
   ]
  },
  {
   "cell_type": "code",
   "execution_count": null,
   "metadata": {
    "collapsed": true
   },
   "outputs": [],
   "source": [
    "def create(address, run, n_comp):\n",
    "    print(\"GMM.create\")\n",
    "    \"\"\" Takes the training dataset and creates the GMM object \"\"\"\n",
    "    # Load col_reduced\n",
    "    col_reduced = None\n",
    "    col_reduced = Print.readColreduced(address, run)\n",
    "    col_reduced_array = np.arange(col_reduced)\n",
    "    \n",
    "    # Load Training data in reduced pca space\n",
    "    lon_train, lat_train, X_train_array, varTime_train = None, None, None, None\n",
    "    lon_train, lat_train, X_train_array, varTime_train = Print.readPCAFromFile_Train(address, run, col_reduced)\n",
    "    \n",
    "    # Calculate GMM Object\n",
    "    gmm, gmm_weights, gmm_means, gmm_covariances = None, None, None, None\n",
    "    gmm, gmm_weights, gmm_means, gmm_covariances = GaussianMixtureModel(address, run, n_comp, X_train_array)\n",
    "    \n",
    "    \"\"\" Print the information on the classes to a file \"\"\"\n",
    "    class_number_array = np.arange(0,n_comp).reshape(-1,1)\n",
    "    Print.printGMMclasses(address, run, class_number_array, gmm_weights, \\\n",
    "                          gmm_means, gmm_covariances, col_reduced_array, 'reduced')\n",
    "    "
   ]
  },
  {
   "cell_type": "code",
   "execution_count": null,
   "metadata": {
    "collapsed": true
   },
   "outputs": [],
   "source": [
    "def apply(address, run, n_comp):\n",
    "    print(\"GMM.apply\")\n",
    "    # Load col_reduced value\n",
    "    col_reduced = None\n",
    "    col_reduced = Print.readColreduced(address, run)\n",
    "    \n",
    "    # Load full data array - X\n",
    "    lon, lat, X_array, varTime = None, None, None, None\n",
    "    lon, lat, X_array, varTime = Print.readPCAFromFile(address, run, col_reduced)\n",
    "    \n",
    "    # Load GMM object\n",
    "    gmm = None\n",
    "    with open(address+'Objects/GMM_Object.pkl', 'rb') as input:\n",
    "        gmm = pickle.load(input)\n",
    "    \n",
    "    # Calculate the labels and probabilities of the profiles\n",
    "    labels, post_prob = None, None\n",
    "    labels = gmm.predict(X_array)  # Expected shaope (n_profiles,)\n",
    "    post_prob = gmm.predict_proba(X_array) # Expected shape (n_profiles, classes)\n",
    "    class_number_array = np.arange(0,n_comp).reshape(-1,1)\n",
    "    \n",
    "    # Print Labels and probabilities to file\n",
    "    Print.printLabels(address, run, lon, lat, varTime, labels)\n",
    "    Print.printPosteriorProb(address, run, lon, lat, varTime, post_prob, class_number_array)\n",
    "    \n",
    "    "
   ]
  },
  {
   "cell_type": "code",
   "execution_count": null,
   "metadata": {
    "collapsed": true
   },
   "outputs": [],
   "source": [
    "def GaussianMixtureModel(address, run, n_comp, X_train):\n",
    "    print(\"GMM.GaussianMixtureModel\")\n",
    "    gmm = None\n",
    "    gmm = mixture.GaussianMixture(n_components = n_comp, covariance_type = 'diag')\n",
    "#    gmm = mixture.BayesianGaussianMixture(n_components = n_comp, covariance_type = 'diag')\n",
    "    gmm.fit(X_train)\n",
    "    \n",
    "    #### Attempt to store the GMM object\n",
    "    gmm_store = address+\"Objects/GMM_Object.pkl\"\n",
    "    with open(gmm_store, 'wb') as output:\n",
    "        gmmObject = gmm\n",
    "        pickle.dump(gmmObject, output, pickle.HIGHEST_PROTOCOL)\n",
    "    del gmmObject\n",
    "    \n",
    "    weights, means, covariances = None, None, None\n",
    "    weights = np.squeeze(gmm.weights_)  # shape (n_components)\n",
    "    # NOTE: weights is the same for each col_red\n",
    "    means = np.squeeze(gmm.means_)  # shape (n_components, n_features)\n",
    "    covariances = abs(np.squeeze(gmm.covariances_))  # shape (n_components, n_features) \n",
    "    \n",
    "    return gmm, weights, means, covariances\n",
    "\n",
    "print('GMM runtime = ', time.clock() - start_time,' s')"
   ]
  },
  {
   "cell_type": "code",
   "execution_count": null,
   "metadata": {
    "collapsed": true
   },
   "outputs": [],
   "source": []
  }
 ],
 "metadata": {
  "kernelspec": {
   "display_name": "Python 3",
   "language": "python",
   "name": "python3"
  },
  "language_info": {
   "codemirror_mode": {
    "name": "ipython",
    "version": 3
   },
   "file_extension": ".py",
   "mimetype": "text/x-python",
   "name": "python",
   "nbconvert_exporter": "python",
   "pygments_lexer": "ipython3",
   "version": "3.7.6"
  }
 },
 "nbformat": 4,
 "nbformat_minor": 2
}
